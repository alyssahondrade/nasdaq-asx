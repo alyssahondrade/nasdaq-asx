# Import dependencies
import pandas as pd
from pathlib import Path
import re


# Define the path to the csv
asx_path = Path("Resources/asx-companies-list.csv")
nasdaq_path = Path("Resources/nasdaq-companies-list.csv")


# Create ASX DataFrame
asx_df = pd.read_csv(asx_path)
asx_df.head()


# Create NASDAQ DataFrame
nasdaq_df = pd.read_csv(nasdaq_path)
nasdaq_df.head()








# Rename the columns
list(asx_df.columns)


asx_df = asx_df.rename(columns={
    'Code': 'code',
    'Company': 'company',
    'Link': 'link',
    'Market Cap': 'market_cap',
    'Last trade': 'last_trade',
    'Change': 'change',
    '%Change': 'pct_change',
    'Sector': 'sector'})
asx_df.head()


# Drop the "ASX:" from the code column
asx_df['code'] = asx_df['code'].str[4:]
asx_df.head()


# Drop the (ASX:...) from the company column
pattern = '(\(\w+:\w+\))'
asx_df['company'].str.extractall(pattern, flags=re.I)


pattern = '([\w+\s]+)'
parsed_company = asx_df['company'].str.extractall(pattern, flags=re.I)
parsed_company.head(12)


asx_df['company'] = parsed_company.loc(axis=0)[:,0].reset_index(drop=True)
asx_df.head()





# Rename the columns
list(nasdaq_df.columns)


nasdaq_df = nasdaq_df.rename(columns={
    'Symbol': 'code',
    'Name': 'company',
    'Last Sale': 'last_sale',
    'Net Change': 'net_change',
    '% Change': 'pct_change',
    'Market Cap': 'market_cap',
    'Country': 'country',
    'IPO Year': 'ipo_year',
    'Volume': 'volume',
    'Sector': 'sector',
    'Industry': 'industry'})
nasdaq_df.head()


company_stripped = {}
first_two = []
for company in nasdaq_df['company']:
    company_stripped[company] = company.split(" ")
    first_two.append(" ".join(company.split(" ")[:2]))


last_word = []
for key, value in company_stripped.items():
    if (value[-1] not in last_word):
        last_word.append(value[-1])


from collections import defaultdict
last_freq = defaultdict(int)
for key, value in company_stripped.items():
    word = value[-1]
    last_freq[word] += 1

freq_df = pd.DataFrame([dict(last_freq)]).T.reset_index().sort_values(by=0, ascending=False)
last_word = list(freq_df.head(8)['index'])
last_word


slast_freq = defaultdict(int)
for key, value in company_stripped.items():
    word = value[-2]
    slast_freq[word] += 1

freq_df = pd.DataFrame([dict(slast_freq)]).T.reset_index().sort_values(by=0, ascending=False)
last_word = list(freq_df.head(8)['index'])
last_word





for key, value in company_stripped.items():
    if (value[-1] in last_word):
        value.pop()
        print(value)


# for nasdaq in first_two:
#     for asx in asx_df['company']:
#         if re.search(asx, nasdaq, re.IGNORECASE):
#             print(asx)
# for idx, value in asx_df.iterrows():
#     print(value.company)

# list(set(first_two))

asx_df['company']


pattern = '(Common\sStock$)'
nasdaq_df['company'].str.extractall(pattern)





asx_df['company'].head()


nasdaq_df['Name'].head()


asx = set(list(asx_df['company'].head()))


nasdaq = set(list(nasdaq_df['Name'].head()))


nasdaq.intersection(asx)





for idx, nasdaq in enumerate(nasdaq_df['Name']):
    if "Common Stock" in nasdaq:
        print(nasdaq_df.loc[idx, 'Name'])
        nasdaq.strip(" Common Stock")
        print(nasdaq.strip(" Common Stock"))
        nasdaq_df.loc[idx, 'Name'] = nasdaq.strip(" Common Stock")
    # for asx in asx_df['company']:
        # if asx in nasdaq:
            # print(nasdaq, asx)


nasdaq_df




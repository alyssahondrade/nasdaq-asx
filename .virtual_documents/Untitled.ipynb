# Import dependencies
import pandas as pd
from pathlib import Path


# Define the path to the csv
asx_path = Path("Resources/asx-companies-list.csv")
nasdaq_path = Path("Resources/nasdaq-companies-list.csv")


# Create ASX DataFrame
asx_df = pd.read_csv(asx_path)
asx_df


# Create NASDAQ DataFrame
nasdaq_df = pd.read_csv(nasdaq_path)
nasdaq_df




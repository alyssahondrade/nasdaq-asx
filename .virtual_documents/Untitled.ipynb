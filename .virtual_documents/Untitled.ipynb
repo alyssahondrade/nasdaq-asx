# Import dependencies
import pandas as pd
from pathlib import Path
import re


# Define the path to the csv
asx_path = Path("Resources/asx-companies-list.csv")
nasdaq_path = Path("Resources/nasdaq-companies-list.csv")


# Create ASX DataFrame
asx_df = pd.read_csv(asx_path)
asx_df.head()


# Create NASDAQ DataFrame
nasdaq_df = pd.read_csv(nasdaq_path)
nasdaq_df.head()








# Rename the columns
list(asx_df.columns)


asx_df = asx_df.rename(columns={
    'Code': 'code',
    'Company': 'company',
    'Link': 'link',
    'Market Cap': 'market_cap',
    'Last trade': 'last_trade',
    'Change': 'change',
    '%Change': 'pct_change',
    'Sector': 'sector'})
asx_df.head()


# Drop the "ASX:" from the code column
asx_df['code'] = asx_df['code'].str[4:]
asx_df.head()


# Drop the (ASX:...) from the company column
pattern = '(\(\w+:\w+\))'
asx_df['company'].str.extractall(pattern, flags=re.I)


pattern = '([\w+\s]+)'
parsed_company = asx_df['company'].str.extractall(pattern, flags=re.I)
parsed_company.head(12)


asx_df['company'] = parsed_company.loc(axis=0)[:,0].reset_index(drop=True)
asx_df.head()



